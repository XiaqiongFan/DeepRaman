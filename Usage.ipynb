{
 "cells": [
  {
   "cell_type": "markdown",
   "metadata": {},
   "source": [
    "# Usage of DeepRaman\n",
    "\n",
    "\n",
    "Here, part of the liquid and powder mixture dataset is taken as an example to show the process of DeepRaman."
   ]
  },
  {
   "cell_type": "code",
   "execution_count": 1,
   "metadata": {},
   "outputs": [],
   "source": [
    "import tensorflow as tf\n",
    "import numpy as np\n",
    "from sklearn.linear_model import enet_path\n",
    "from scipy.sparse.linalg import spsolve\n",
    "import matplotlib.pyplot as plt \n",
    "import tensorflow.keras.backend as K\n",
    "from tensorflow.keras.layers import Layer\n",
    "from scipy.sparse import spdiags,eye,csc_matrix, diags\n",
    "import copy\n",
    "import csv"
   ]
  },
  {
   "cell_type": "markdown",
   "metadata": {},
   "source": [
    "### Import Data\n"
   ]
  },
  {
   "cell_type": "code",
   "execution_count": 3,
   "metadata": {},
   "outputs": [
    {
     "name": "stdout",
     "output_type": "stream",
     "text": [
      "Unknow： (6, 881)\n",
      "Database： [['Acetonitrile_75-0508_2241'], ['Ethanol_2241'], ['Methanol_2241'], ['Polyacrylamide_2241'], ['Sodium Acetate Trihydrate _2241'], ['Sodium Carbonate_2241']]\n"
     ]
    }
   ],
   "source": [
    "# Database\n",
    "datafile0 = u'E:/20220608/DeepMix/DeepRaman/data/database_for_Liquid_and_powder_mixture.npy'\n",
    "spectrum_pure = np.load(datafile0) \n",
    "# Unknow\n",
    "datafile1 =u'E:/20220608/DeepMix/DeepRaman/data/unknown_Liquid_and_powder_mixture.npy'\n",
    "spectrum_mix = np.load(datafile1)     \n",
    "# Component information of database\n",
    "csv_reader = csv.reader(open(u'E:/20220608/DeepMix/DeepRaman/data/database_for_Liquid_and_powder_mixture.csv', encoding='utf-8'))\n",
    "DBcoms = [row for row in csv_reader]   \n",
    "print('Unknow：',spectrum_mix.shape)\n",
    "print('Database：',DBcoms)"
   ]
  },
  {
   "cell_type": "markdown",
   "metadata": {},
   "source": [
    "### Data process"
   ]
  },
  {
   "cell_type": "code",
   "execution_count": 4,
   "metadata": {},
   "outputs": [],
   "source": [
    "spectrum_pure_sc =  copy.deepcopy(spectrum_pure)\n",
    "spectrum_mix_sc = copy.deepcopy(spectrum_mix)\n",
    "for i in range(spectrum_mix.shape[0]):\n",
    "    spectrum_mix_sc[i,:] = spectrum_mix[i,:]/np.max(spectrum_mix[i,:])\n",
    "for i in range(spectrum_pure.shape[0]):\n",
    "    spectrum_pure_sc[i,:] = spectrum_pure[i,:]/np.max(spectrum_pure[i,:])\n",
    "\n",
    "\n",
    "X = np.zeros((spectrum_mix_sc.shape[0]*spectrum_pure_sc.shape[0],2,881,1))\n",
    "\n",
    "for p in range(spectrum_mix_sc.shape[0]):\n",
    "    for q in range(spectrum_pure_sc.shape[0]):\n",
    "        X[int(p*spectrum_pure_sc.shape[0]+q),0,:,0] = spectrum_mix_sc[p,:]\n",
    "        X[int(p*spectrum_pure_sc.shape[0]+q),1,:,0] = spectrum_pure_sc[q,:]"
   ]
  },
  {
   "cell_type": "markdown",
   "metadata": {},
   "source": [
    "### Reload and predict"
   ]
  },
  {
   "cell_type": "code",
   "execution_count": 5,
   "metadata": {},
   "outputs": [],
   "source": [
    "re_model = tf.keras.models.load_model('E:/20220608/DeepMix/DeepRaman/model/model.h5', custom_objects=_custom_objects)\n",
    "y = re_model.predict(X)\n"
   ]
  },
  {
   "cell_type": "markdown",
   "metadata": {},
   "source": [
    "### Baseline removal"
   ]
  },
  {
   "cell_type": "code",
   "execution_count": 6,
   "metadata": {},
   "outputs": [],
   "source": [
    "spectrum_pure = WhittakerSmooth_MAT(spectrum_pure, lamb=1)\n",
    "spectrum_pure = airPLS_MAT(spectrum_pure, lamb=10, itermax=10)\n",
    "spectrum_mix = WhittakerSmooth_MAT(spectrum_mix, lamb=1)\n",
    "spectrum_mix = airPLS_MAT(spectrum_mix, lamb=10, itermax=10)"
   ]
  },
  {
   "cell_type": "markdown",
   "metadata": {},
   "source": [
    "### NN-EN for ratio estimation"
   ]
  },
  {
   "cell_type": "code",
   "execution_count": 7,
   "metadata": {},
   "outputs": [
    {
     "name": "stdout",
     "output_type": "stream",
     "text": [
      "The 0 spectra may contain: [['Acetonitrile_75-0508_2241'], ['Ethanol_2241'], ['Methanol_2241']]\n",
      "The corresponding ratio is: [0.19772626 0.31080356 0.49147018]\n",
      "The 1 spectra may contain: [['Acetonitrile_75-0508_2241'], ['Ethanol_2241'], ['Methanol_2241']]\n",
      "The corresponding ratio is: [0.0785501  0.21088816 0.71056175]\n",
      "The 2 spectra may contain: [['Acetonitrile_75-0508_2241'], ['Ethanol_2241'], ['Methanol_2241']]\n",
      "The corresponding ratio is: [0.30807043 0.30981864 0.38211093]\n",
      "The 3 spectra may contain: [['Polyacrylamide_2241'], ['Sodium Acetate Trihydrate _2241']]\n",
      "The corresponding ratio is: [0.74317879 0.25682121]\n",
      "The 4 spectra may contain: [['Polyacrylamide_2241'], ['Sodium Acetate Trihydrate _2241'], ['Sodium Carbonate_2241']]\n",
      "The corresponding ratio is: [0.38000182 0.14882521 0.47117298]\n",
      "The 5 spectra may contain: [['Polyacrylamide_2241'], ['Sodium Acetate Trihydrate _2241'], ['Sodium Carbonate_2241']]\n",
      "The corresponding ratio is: [0.61626663 0.22985714 0.15387623]\n"
     ]
    }
   ],
   "source": [
    "for cc in range(spectrum_mix.shape[0]):\n",
    "    com=[]\n",
    "    coms = []\n",
    "    ra2 = []\n",
    "    for ss in range(cc*spectrum_pure.shape[0],(cc+1)*spectrum_pure.shape[0]):\n",
    "\n",
    "        if y[ss,1]>=0.5:\n",
    "            com.append(ss%spectrum_pure.shape[0])\n",
    "\n",
    "\n",
    "    X = spectrum_pure[com]\n",
    "    coms = [DBcoms[com[h]] for h in range(len(com))]\n",
    "\n",
    "    _, coefs_lasso, _ = enet_path(X.T, spectrum_mix[cc,:], l1_ratio=0.96,\n",
    "                              positive=True, fit_intercept=False)\n",
    "    ratio = coefs_lasso[:, -1]\n",
    "    ratio_sc = copy.deepcopy(ratio)\n",
    "\n",
    "    for ss2 in range(ratio.shape[0]):\n",
    "        ratio_sc[ss2]=ratio[ss2]/np.sum(ratio)\n",
    "\n",
    "\n",
    "    print('The',cc, 'spectra may contain:',coms)\n",
    "    print('The corresponding ratio is:', ratio_sc)"
   ]
  }
 ],
 "metadata": {
  "kernelspec": {
   "display_name": "Python 3",
   "language": "python",
   "name": "python3"
  },
  "language_info": {
   "codemirror_mode": {
    "name": "ipython",
    "version": 3
   },
   "file_extension": ".py",
   "mimetype": "text/x-python",
   "name": "python",
   "nbconvert_exporter": "python",
   "pygments_lexer": "ipython3",
   "version": "3.6.5"
  }
 },
 "nbformat": 4,
 "nbformat_minor": 2
}
